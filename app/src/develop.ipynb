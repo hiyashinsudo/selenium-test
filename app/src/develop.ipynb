{
 "cells": [
  {
   "cell_type": "code",
   "execution_count": 14,
   "id": "710bd2b8",
   "metadata": {},
   "outputs": [
    {
     "name": "stdout",
     "output_type": "stream",
     "text": [
      "PCの内蔵時計は、0.1秒遅れています。\n"
     ]
    }
   ],
   "source": [
    "import os\n",
    "\n",
    "from selenium import webdriver\n",
    "from selenium.webdriver.common.desired_capabilities import DesiredCapabilities\n",
    "\n",
    "\n",
    "driver = webdriver.Remote(\n",
    "    command_executor=os.environ[\"SELENIUM_URL\"],\n",
    "    desired_capabilities=DesiredCapabilities.FIREFOX.copy()\n",
    ")\n",
    "\n",
    "driver.get(\"https://www.time-j.net/worldtime/country/jp\")\n",
    "driver.implicitly_wait(5)\n",
    "\n",
    "print(driver.find_element_by_xpath(\"/html/body/div/div[6]/div[1]/div/p[5]\").text)\n",
    "driver.quit()\n"
   ]
  },
  {
   "cell_type": "code",
   "execution_count": null,
   "id": "91b22c96",
   "metadata": {},
   "outputs": [],
   "source": [
    "参考：https://qiita.com/ryoheiszk/items/93b2d52eec370c09a22e"
   ]
  },
  {
   "cell_type": "code",
   "execution_count": 18,
   "id": "dfefda61",
   "metadata": {},
   "outputs": [
    {
     "name": "stdout",
     "output_type": "stream",
     "text": [
      "python.jp: プログラミング言語 Python 総合情報サイト\n",
      "https://www.python.jp/\n",
      "Python - Wikipedia\n",
      "https://ja.wikipedia.org/wiki/Python\n",
      "［Python入門］Pythonってどんな言語なの？ - ITmedia\n",
      "https://atmarkit.itmedia.co.jp/ait/articles/1904/02/news024.html\n",
      "Welcome to Python.org\n",
      "https://www.python.org/\n",
      "Python入門 - Let'sプログラミング\n",
      "https://www.javadrive.jp/python/\n",
      "Pythonでできること6選！仕事への活用方法から学習方法まで ...\n",
      "https://www.pasonatech.co.jp/workstyle/column/detail.html?p=2104\n",
      "みんなのPython 第4版 単行本 – 2016/12/22 - アマゾン\n",
      "https://www.amazon.co.jp/%E3%81%BF%E3%82%93%E3%81%AA%E3%81%AEPython-%E7%AC%AC4%E7%89%88-%E6%9F%B4%E7%94%B0-%E6%B7%B3/dp/479738946X\n",
      "初心者向けにPythonのインストールから環境構築、動作確認 ...\n",
      "https://camp.trainocate.co.jp/magazine/python-install/\n",
      "python - Google 検索\n",
      "end\n"
     ]
    }
   ],
   "source": [
    "import os\n",
    "\n",
    "from selenium import webdriver\n",
    "from selenium.webdriver.common.by import By\n",
    "from selenium.webdriver.common.desired_capabilities import DesiredCapabilities\n",
    "\n",
    "driver = webdriver.Remote(\n",
    "    command_executor=os.environ[\"SELENIUM_URL\"],\n",
    "    desired_capabilities=DesiredCapabilities.FIREFOX.copy()\n",
    ")\n",
    "driver.get('https://www.google.co.jp')\n",
    " \n",
    "# search_bar = driver.find_element_by_name(\"q\")非推奨\n",
    "search_bar = driver.find_element(by=By.NAME, value=\"q\")\n",
    "driver.implicitly_wait(1)\n",
    "search_bar.send_keys(\"python\")\n",
    "driver.implicitly_wait(1)\n",
    "search_bar.submit()\n",
    "driver.implicitly_wait(1)\n",
    " \n",
    "for elem_h3 in driver.find_elements_by_xpath('//a/h3'):\n",
    "    elem_a = elem_h3.find_element_by_xpath('..')  \n",
    "    print(elem_h3.text)\n",
    "    print(elem_a.get_attribute('href'))\n",
    "print(driver.title)\n",
    "print(\"end\")"
   ]
  },
  {
   "cell_type": "code",
   "execution_count": 12,
   "id": "f45fe162-4344-4764-830d-131a39ed55b6",
   "metadata": {},
   "outputs": [
    {
     "name": "stdout",
     "output_type": "stream",
     "text": [
      "タイトル --> 「なんか言っているようで、何にも言ってない発言」をする人々の話。 | Books&Apps\n"
     ]
    },
    {
     "data": {
      "text/plain": [
       "<wordcloud.wordcloud.WordCloud at 0x7f9b9ed2e650>"
      ]
     },
     "execution_count": 12,
     "metadata": {},
     "output_type": "execute_result"
    }
   ],
   "source": [
    "import os\n",
    "import datetime\n",
    "\n",
    "import MeCab\n",
    "from wordcloud import WordCloud\n",
    "\n",
    "from selenium import webdriver\n",
    "from selenium.webdriver.common.by import By\n",
    "from selenium.webdriver.common.desired_capabilities import DesiredCapabilities\n",
    "\n",
    "driver = webdriver.Remote(\n",
    "    command_executor=os.environ[\"SELENIUM_URL\"],\n",
    "    desired_capabilities=DesiredCapabilities.FIREFOX.copy()\n",
    ")\n",
    "\n",
    "# スクレイピング対象URL\n",
    "driver.get('https://blog.tinect.jp/?p=75931')\n",
    "driver.implicitly_wait(0.5)\n",
    "title = driver.title\n",
    "print(f'タイトル --> {title}')\n",
    "# 要素指定で本文取得\n",
    "text = driver.find_element(by=By.XPATH, value=f\"//div[@itemprop='articleBody']\").text\n",
    "\n",
    "mecab = MeCab.Tagger()\n",
    "font_path = '/usr/share/fonts/opentype/noto/NotoSansCJK-Regular.ttc'\n",
    "# mecabで分かち書き\n",
    "nodes = mecab.parseToNode(text)\n",
    "# ワードマップ作成\n",
    "s = []\n",
    "while nodes:\n",
    "    if nodes.feature[:2] == '名詞':\n",
    "        s.append(nodes.surface)\n",
    "    nodes = nodes.next\n",
    "wc = WordCloud(width=960, height=640, background_color=\"white\",\n",
    "               stopwords={\"もの\",\"これ\",\"ため\",\"それ\",\"ところ\",\"よう\",\"の\",\"事\",\"こと\",\"何\"},\n",
    "               font_path=font_path)\n",
    "wc.generate(\" \".join(s))\n",
    "now = datetime.datetime.now().strftime('%Y%m%d%H:%M:%S')\n",
    "wc.to_file(f'wc_{title}_{now}.png')"
   ]
  },
  {
   "cell_type": "code",
   "execution_count": 2,
   "id": "c920edf0-9ad3-469d-903c-013abfc7c1ed",
   "metadata": {
    "slideshow": {
     "slide_type": "slide"
    },
    "tags": []
   },
   "outputs": [
    {
     "name": "stdout",
     "output_type": "stream",
     "text": [
      "ジョブ開始日時：2022年05月28日02:59:59\n",
      "アクセスランキング\n",
      "1 ヘッドライン：ノーベル賞を目指したはずが、東大卒でポーカーのプロに…「やっちまった」後の逆転人生\n",
      "https://news.yahoo.co.jp/articles/ebef7e835cea853b8453015ed43e5532d2e1ee9c\n",
      "2 ヘッドライン：日本赤軍の「魔女」５月２８日に２０年の刑期満了、ついに出所　「革命」という言葉の魔力と学生運動、今の２０代はどう見る\n",
      "https://news.yahoo.co.jp/articles/a36cc55b49c4ba660c874100635a2c6f4d6979df\n",
      "3 ヘッドライン：民家で10歳未満くらいの男児と女児の遺体　30歳代くらいの女性も搬送先の病院で死亡確認　警察が経緯を捜査\n",
      "https://news.yahoo.co.jp/articles/1c3f330b0948624e4678a2d542ae186e8c3b0f70\n",
      "4 ヘッドライン：「プロポーズの手紙を全国放送」に高まるマスコミ批判。事件で愛娘を失った女性が語る遺族取材のあり方とは\n",
      "https://news.yahoo.co.jp/articles/f99cdb651f3401c837c9d0092a860fb47106913f\n",
      "5 ヘッドライン：胃がんステージ４闘病中の藤井直伸が清水邦広、福澤達哉との３ショット公開「最高の薬です！！」\n",
      "https://news.yahoo.co.jp/articles/a8b3136f16cbd79acf86532bee1d1c8cb02e1219\n",
      "ジョブ終了日時：2022年05月28日03:00:10\n"
     ]
    }
   ],
   "source": [
    "import os\n",
    "import datetime\n",
    "import time\n",
    "import schedule\n",
    "\n",
    "from selenium import webdriver\n",
    "from selenium.common.exceptions import NoSuchElementException\n",
    "from selenium.webdriver.common.by import By\n",
    "from selenium.webdriver.common.desired_capabilities import DesiredCapabilities\n",
    "\n",
    "driver = webdriver.Remote(\n",
    "    command_executor=os.environ[\"SELENIUM_URL\"],\n",
    "    desired_capabilities=DesiredCapabilities.FIREFOX.copy()\n",
    ")\n",
    "\n",
    "\n",
    "# Y!トピックからランキングtop10を取ってくる\n",
    "def job():\n",
    "    print(f'ジョブ開始日時：{datetime.datetime.now().strftime(\"%Y年%m月%d日%H:%M:%S\")}')\n",
    "    driver.get('https://news.yahoo.co.jp/topics')\n",
    "    driver.implicitly_wait(0.5)\n",
    "    yjnSub_list_item = []\n",
    "    yjnSub_section_title = \"\"\n",
    "    try:\n",
    "        yjnSub_section = driver.find_element(by=By.CLASS_NAME, value=\"yjnSub_section\")\n",
    "        yjnSub_section_title = yjnSub_section.find_element(by=By.CLASS_NAME, value='yjnSub_section_title').text\n",
    "        yjnSub_list_item = yjnSub_section.find_elements(by=By.CLASS_NAME, value='yjnSub_list_item')\n",
    "    except NoSuchElementException as e:\n",
    "        print(\"そんな要素ないぞ\")\n",
    "        print(e)\n",
    "    print(yjnSub_section_title)\n",
    "    for item in yjnSub_list_item:\n",
    "        rank = item.find_element(by=By.CLASS_NAME, value=\"yjnSub_list_rankNum\").text\n",
    "        headline = item.find_element(by=By.CLASS_NAME, value=\"yjnSub_list_headline\").text\n",
    "        link = item.find_element(by=By.TAG_NAME, value=\"a\").get_attribute(\"href\")\n",
    "        print(f'{rank} ヘッドライン：{headline}')\n",
    "        print(link)\n",
    "    print(f'ジョブ終了日時：{datetime.datetime.now().strftime(\"%Y年%m月%d日%H:%M:%S\")}')\n",
    "\n",
    "\n",
    "job()\n",
    "\n",
    "# schedule.every(10).minutes.do(job)\n",
    "#\n",
    "# while True:\n",
    "#     print(\"asdfasdfff\")\n",
    "#     schedule.run_pending()\n",
    "#     time.sleep(1)\n"
   ]
  }
 ],
 "metadata": {
  "kernelspec": {
   "display_name": "Python 3 (ipykernel)",
   "language": "python",
   "name": "python3"
  },
  "language_info": {
   "codemirror_mode": {
    "name": "ipython",
    "version": 3
   },
   "file_extension": ".py",
   "mimetype": "text/x-python",
   "name": "python",
   "nbconvert_exporter": "python",
   "pygments_lexer": "ipython3",
   "version": "3.7.13"
  }
 },
 "nbformat": 4,
 "nbformat_minor": 5
}
