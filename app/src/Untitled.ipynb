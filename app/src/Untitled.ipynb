{
 "cells": [
  {
   "cell_type": "code",
   "execution_count": 2,
   "id": "5a02bd9e-2356-4d46-ac23-2be2cae41c36",
   "metadata": {},
   "outputs": [
    {
     "name": "stdout",
     "output_type": "stream",
     "text": [
      "PCの内蔵時計は、あっています。\n"
     ]
    }
   ],
   "source": [
    "import os\n",
    "\n",
    "from selenium import webdriver\n",
    "from selenium.webdriver.common.desired_capabilities import DesiredCapabilities\n",
    "\n",
    "\n",
    "driver = webdriver.Remote(\n",
    "    command_executor=os.environ[\"SELENIUM_URL\"],\n",
    "    desired_capabilities=DesiredCapabilities.FIREFOX.copy()\n",
    ")\n",
    "\n",
    "driver.get(\"https://www.time-j.net/worldtime/country/jp\")\n",
    "driver.implicitly_wait(5)\n",
    "\n",
    "print(driver.find_element_by_xpath(\"/html/body/div/div[6]/div[1]/div/p[5]\").text)\n",
    "driver.quit()\n"
   ]
  },
  {
   "cell_type": "code",
   "execution_count": null,
   "id": "ff424e3f-326f-4c46-8f9f-7715d9895073",
   "metadata": {},
   "outputs": [],
   "source": [
    "参考：https://qiita.com/ryoheiszk/items/93b2d52eec370c09a22e"
   ]
  },
  {
   "cell_type": "code",
   "execution_count": null,
   "id": "bb0617a0-287f-4f7e-89c6-c13787a2aa15",
   "metadata": {},
   "outputs": [],
   "source": []
  }
 ],
 "metadata": {
  "kernelspec": {
   "display_name": "Python 3 (ipykernel)",
   "language": "python",
   "name": "python3"
  },
  "language_info": {
   "codemirror_mode": {
    "name": "ipython",
    "version": 3
   },
   "file_extension": ".py",
   "mimetype": "text/x-python",
   "name": "python",
   "nbconvert_exporter": "python",
   "pygments_lexer": "ipython3",
   "version": "3.7.13"
  }
 },
 "nbformat": 4,
 "nbformat_minor": 5
}
